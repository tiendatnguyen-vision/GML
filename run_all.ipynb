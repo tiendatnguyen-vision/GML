{
 "cells": [
  {
   "cell_type": "code",
   "execution_count": 2,
   "id": "xQGJLKkvce5F",
   "metadata": {
    "colab": {
     "base_uri": "https://localhost:8080/",
     "height": 1000
    },
    "id": "xQGJLKkvce5F",
    "outputId": "167b2be3-0fe1-4249-c6c4-9b1d192f3a34"
   },
   "outputs": [
    {
     "name": "stdout",
     "output_type": "stream",
     "text": [
      "Looking in indexes: https://pypi.org/simple, https://us-python.pkg.dev/colab-wheels/public/simple/\n",
      "Looking in links: https://pytorch-geometric.com/whl/torch-2.0.1+cu118.html\n",
      "Collecting torch-scatter==2.1.1\n",
      "  Downloading https://data.pyg.org/whl/torch-2.0.0%2Bcu118/torch_scatter-2.1.1%2Bpt20cu118-cp310-cp310-linux_x86_64.whl (10.2 MB)\n",
      "\u001b[2K     \u001b[90m━━━━━━━━━━━━━━━━━━━━━━━━━━━━━━━━━━━━━━━━\u001b[0m \u001b[32m10.2/10.2 MB\u001b[0m \u001b[31m23.7 MB/s\u001b[0m eta \u001b[36m0:00:00\u001b[0m\n",
      "\u001b[?25hInstalling collected packages: torch-scatter\n",
      "Successfully installed torch-scatter-2.1.1+pt20cu118\n",
      "Looking in indexes: https://pypi.org/simple, https://us-python.pkg.dev/colab-wheels/public/simple/\n",
      "Looking in links: https://pytorch-geometric.com/whl/torch-2.0.1+cu118.html\n",
      "Collecting torch-sparse==0.6.17\n",
      "  Downloading https://data.pyg.org/whl/torch-2.0.0%2Bcu118/torch_sparse-0.6.17%2Bpt20cu118-cp310-cp310-linux_x86_64.whl (4.8 MB)\n",
      "\u001b[2K     \u001b[90m━━━━━━━━━━━━━━━━━━━━━━━━━━━━━━━━━━━━━━━━\u001b[0m \u001b[32m4.8/4.8 MB\u001b[0m \u001b[31m14.5 MB/s\u001b[0m eta \u001b[36m0:00:00\u001b[0m\n",
      "\u001b[?25hRequirement already satisfied: scipy in /usr/local/lib/python3.10/dist-packages (from torch-sparse==0.6.17) (1.10.1)\n",
      "Requirement already satisfied: numpy<1.27.0,>=1.19.5 in /usr/local/lib/python3.10/dist-packages (from scipy->torch-sparse==0.6.17) (1.22.4)\n",
      "Installing collected packages: torch-sparse\n",
      "Successfully installed torch-sparse-0.6.17+pt20cu118\n",
      "Looking in indexes: https://pypi.org/simple, https://us-python.pkg.dev/colab-wheels/public/simple/\n",
      "Looking in links: https://pytorch-geometric.com/whl/torch-2.0.1+cu118.html\n",
      "Collecting torch-cluster==1.6.1\n",
      "  Downloading https://data.pyg.org/whl/torch-2.0.0%2Bcu118/torch_cluster-1.6.1%2Bpt20cu118-cp310-cp310-linux_x86_64.whl (3.3 MB)\n",
      "\u001b[2K     \u001b[90m━━━━━━━━━━━━━━━━━━━━━━━━━━━━━━━━━━━━━━━━\u001b[0m \u001b[32m3.3/3.3 MB\u001b[0m \u001b[31m14.5 MB/s\u001b[0m eta \u001b[36m0:00:00\u001b[0m\n",
      "\u001b[?25hRequirement already satisfied: scipy in /usr/local/lib/python3.10/dist-packages (from torch-cluster==1.6.1) (1.10.1)\n",
      "Requirement already satisfied: numpy<1.27.0,>=1.19.5 in /usr/local/lib/python3.10/dist-packages (from scipy->torch-cluster==1.6.1) (1.22.4)\n",
      "Installing collected packages: torch-cluster\n",
      "Successfully installed torch-cluster-1.6.1+pt20cu118\n",
      "Looking in indexes: https://pypi.org/simple, https://us-python.pkg.dev/colab-wheels/public/simple/\n",
      "Collecting torch-geometric==1.7.2\n",
      "  Downloading torch_geometric-1.7.2.tar.gz (222 kB)\n",
      "\u001b[2K     \u001b[90m━━━━━━━━━━━━━━━━━━━━━━━━━━━━━━━━━━━━━━━\u001b[0m \u001b[32m223.0/223.0 kB\u001b[0m \u001b[31m9.2 MB/s\u001b[0m eta \u001b[36m0:00:00\u001b[0m\n",
      "\u001b[?25h  Preparing metadata (setup.py) ... \u001b[?25l\u001b[?25hdone\n",
      "Requirement already satisfied: numpy in /usr/local/lib/python3.10/dist-packages (from torch-geometric==1.7.2) (1.22.4)\n",
      "Requirement already satisfied: tqdm in /usr/local/lib/python3.10/dist-packages (from torch-geometric==1.7.2) (4.65.0)\n",
      "Requirement already satisfied: scipy in /usr/local/lib/python3.10/dist-packages (from torch-geometric==1.7.2) (1.10.1)\n",
      "Requirement already satisfied: networkx in /usr/local/lib/python3.10/dist-packages (from torch-geometric==1.7.2) (3.1)\n",
      "Requirement already satisfied: python-louvain in /usr/local/lib/python3.10/dist-packages (from torch-geometric==1.7.2) (0.16)\n",
      "Requirement already satisfied: scikit-learn in /usr/local/lib/python3.10/dist-packages (from torch-geometric==1.7.2) (1.2.2)\n",
      "Requirement already satisfied: requests in /usr/local/lib/python3.10/dist-packages (from torch-geometric==1.7.2) (2.27.1)\n",
      "Requirement already satisfied: pandas in /usr/local/lib/python3.10/dist-packages (from torch-geometric==1.7.2) (1.5.3)\n",
      "Collecting rdflib (from torch-geometric==1.7.2)\n",
      "  Downloading rdflib-6.3.2-py3-none-any.whl (528 kB)\n",
      "\u001b[2K     \u001b[90m━━━━━━━━━━━━━━━━━━━━━━━━━━━━━━━━━━━━━━\u001b[0m \u001b[32m528.1/528.1 kB\u001b[0m \u001b[31m27.3 MB/s\u001b[0m eta \u001b[36m0:00:00\u001b[0m\n",
      "\u001b[?25hRequirement already satisfied: googledrivedownloader in /usr/local/lib/python3.10/dist-packages (from torch-geometric==1.7.2) (0.4)\n",
      "Requirement already satisfied: jinja2 in /usr/local/lib/python3.10/dist-packages (from torch-geometric==1.7.2) (3.1.2)\n",
      "Requirement already satisfied: pyparsing in /usr/local/lib/python3.10/dist-packages (from torch-geometric==1.7.2) (3.0.9)\n",
      "Requirement already satisfied: MarkupSafe>=2.0 in /usr/local/lib/python3.10/dist-packages (from jinja2->torch-geometric==1.7.2) (2.1.2)\n",
      "Requirement already satisfied: python-dateutil>=2.8.1 in /usr/local/lib/python3.10/dist-packages (from pandas->torch-geometric==1.7.2) (2.8.2)\n",
      "Requirement already satisfied: pytz>=2020.1 in /usr/local/lib/python3.10/dist-packages (from pandas->torch-geometric==1.7.2) (2022.7.1)\n",
      "Collecting isodate<0.7.0,>=0.6.0 (from rdflib->torch-geometric==1.7.2)\n",
      "  Downloading isodate-0.6.1-py2.py3-none-any.whl (41 kB)\n",
      "\u001b[2K     \u001b[90m━━━━━━━━━━━━━━━━━━━━━━━━━━━━━━━━━━━━━━━━\u001b[0m \u001b[32m41.7/41.7 kB\u001b[0m \u001b[31m5.5 MB/s\u001b[0m eta \u001b[36m0:00:00\u001b[0m\n",
      "\u001b[?25hRequirement already satisfied: urllib3<1.27,>=1.21.1 in /usr/local/lib/python3.10/dist-packages (from requests->torch-geometric==1.7.2) (1.26.15)\n",
      "Requirement already satisfied: certifi>=2017.4.17 in /usr/local/lib/python3.10/dist-packages (from requests->torch-geometric==1.7.2) (2022.12.7)\n",
      "Requirement already satisfied: charset-normalizer~=2.0.0 in /usr/local/lib/python3.10/dist-packages (from requests->torch-geometric==1.7.2) (2.0.12)\n",
      "Requirement already satisfied: idna<4,>=2.5 in /usr/local/lib/python3.10/dist-packages (from requests->torch-geometric==1.7.2) (3.4)\n",
      "Requirement already satisfied: joblib>=1.1.1 in /usr/local/lib/python3.10/dist-packages (from scikit-learn->torch-geometric==1.7.2) (1.2.0)\n",
      "Requirement already satisfied: threadpoolctl>=2.0.0 in /usr/local/lib/python3.10/dist-packages (from scikit-learn->torch-geometric==1.7.2) (3.1.0)\n",
      "Requirement already satisfied: six in /usr/local/lib/python3.10/dist-packages (from isodate<0.7.0,>=0.6.0->rdflib->torch-geometric==1.7.2) (1.16.0)\n",
      "Building wheels for collected packages: torch-geometric\n",
      "  Building wheel for torch-geometric (setup.py) ... \u001b[?25l\u001b[?25hdone\n",
      "  Created wheel for torch-geometric: filename=torch_geometric-1.7.2-py3-none-any.whl size=388122 sha256=e9b78ec100d45d57a1eef38595c4b575cbec51516ca3c27ab8083b788f59dc1c\n",
      "  Stored in directory: /root/.cache/pip/wheels/c0/55/79/3c3ea6134ca014b6bedf7c47797876dab8fb74774bee58c76a\n",
      "Successfully built torch-geometric\n",
      "Installing collected packages: isodate, rdflib, torch-geometric\n",
      "Successfully installed isodate-0.6.1 rdflib-6.3.2 torch-geometric-1.7.2\n",
      "Looking in indexes: https://pypi.org/simple, https://us-python.pkg.dev/colab-wheels/public/simple/\n",
      "Collecting tensorboardX==2.4.1\n",
      "  Downloading tensorboardX-2.4.1-py2.py3-none-any.whl (124 kB)\n",
      "\u001b[2K     \u001b[90m━━━━━━━━━━━━━━━━━━━━━━━━━━━━━━━━━━━━━━━\u001b[0m \u001b[32m124.6/124.6 kB\u001b[0m \u001b[31m6.7 MB/s\u001b[0m eta \u001b[36m0:00:00\u001b[0m\n",
      "\u001b[?25hRequirement already satisfied: numpy in /usr/local/lib/python3.10/dist-packages (from tensorboardX==2.4.1) (1.22.4)\n",
      "Requirement already satisfied: protobuf>=3.8.0 in /usr/local/lib/python3.10/dist-packages (from tensorboardX==2.4.1) (3.20.3)\n",
      "Installing collected packages: tensorboardX\n",
      "Successfully installed tensorboardX-2.4.1\n",
      "Looking in indexes: https://pypi.org/simple, https://us-python.pkg.dev/colab-wheels/public/simple/\n",
      "Collecting ogb==1.3.2\n",
      "  Downloading ogb-1.3.2-py3-none-any.whl (78 kB)\n",
      "\u001b[2K     \u001b[90m━━━━━━━━━━━━━━━━━━━━━━━━━━━━━━━━━━━━━━━━\u001b[0m \u001b[32m78.2/78.2 kB\u001b[0m \u001b[31m4.5 MB/s\u001b[0m eta \u001b[36m0:00:00\u001b[0m\n",
      "\u001b[?25hRequirement already satisfied: torch>=1.6.0 in /usr/local/lib/python3.10/dist-packages (from ogb==1.3.2) (2.0.1+cu118)\n",
      "Requirement already satisfied: numpy>=1.16.0 in /usr/local/lib/python3.10/dist-packages (from ogb==1.3.2) (1.22.4)\n",
      "Requirement already satisfied: tqdm>=4.29.0 in /usr/local/lib/python3.10/dist-packages (from ogb==1.3.2) (4.65.0)\n",
      "Requirement already satisfied: scikit-learn>=0.20.0 in /usr/local/lib/python3.10/dist-packages (from ogb==1.3.2) (1.2.2)\n",
      "Requirement already satisfied: pandas>=0.24.0 in /usr/local/lib/python3.10/dist-packages (from ogb==1.3.2) (1.5.3)\n",
      "Requirement already satisfied: six>=1.12.0 in /usr/local/lib/python3.10/dist-packages (from ogb==1.3.2) (1.16.0)\n",
      "Requirement already satisfied: urllib3>=1.24.0 in /usr/local/lib/python3.10/dist-packages (from ogb==1.3.2) (1.26.15)\n",
      "Collecting outdated>=0.2.0 (from ogb==1.3.2)\n",
      "  Downloading outdated-0.2.2-py2.py3-none-any.whl (7.5 kB)\n",
      "Requirement already satisfied: setuptools>=44 in /usr/local/lib/python3.10/dist-packages (from outdated>=0.2.0->ogb==1.3.2) (67.7.2)\n",
      "Collecting littleutils (from outdated>=0.2.0->ogb==1.3.2)\n",
      "  Downloading littleutils-0.2.2.tar.gz (6.6 kB)\n",
      "  Preparing metadata (setup.py) ... \u001b[?25l\u001b[?25hdone\n",
      "Requirement already satisfied: requests in /usr/local/lib/python3.10/dist-packages (from outdated>=0.2.0->ogb==1.3.2) (2.27.1)\n",
      "Requirement already satisfied: python-dateutil>=2.8.1 in /usr/local/lib/python3.10/dist-packages (from pandas>=0.24.0->ogb==1.3.2) (2.8.2)\n",
      "Requirement already satisfied: pytz>=2020.1 in /usr/local/lib/python3.10/dist-packages (from pandas>=0.24.0->ogb==1.3.2) (2022.7.1)\n",
      "Requirement already satisfied: scipy>=1.3.2 in /usr/local/lib/python3.10/dist-packages (from scikit-learn>=0.20.0->ogb==1.3.2) (1.10.1)\n",
      "Requirement already satisfied: joblib>=1.1.1 in /usr/local/lib/python3.10/dist-packages (from scikit-learn>=0.20.0->ogb==1.3.2) (1.2.0)\n",
      "Requirement already satisfied: threadpoolctl>=2.0.0 in /usr/local/lib/python3.10/dist-packages (from scikit-learn>=0.20.0->ogb==1.3.2) (3.1.0)\n",
      "Requirement already satisfied: filelock in /usr/local/lib/python3.10/dist-packages (from torch>=1.6.0->ogb==1.3.2) (3.12.0)\n",
      "Requirement already satisfied: typing-extensions in /usr/local/lib/python3.10/dist-packages (from torch>=1.6.0->ogb==1.3.2) (4.5.0)\n",
      "Requirement already satisfied: sympy in /usr/local/lib/python3.10/dist-packages (from torch>=1.6.0->ogb==1.3.2) (1.11.1)\n",
      "Requirement already satisfied: networkx in /usr/local/lib/python3.10/dist-packages (from torch>=1.6.0->ogb==1.3.2) (3.1)\n",
      "Requirement already satisfied: jinja2 in /usr/local/lib/python3.10/dist-packages (from torch>=1.6.0->ogb==1.3.2) (3.1.2)\n",
      "Requirement already satisfied: triton==2.0.0 in /usr/local/lib/python3.10/dist-packages (from torch>=1.6.0->ogb==1.3.2) (2.0.0)\n",
      "Requirement already satisfied: cmake in /usr/local/lib/python3.10/dist-packages (from triton==2.0.0->torch>=1.6.0->ogb==1.3.2) (3.25.2)\n",
      "Requirement already satisfied: lit in /usr/local/lib/python3.10/dist-packages (from triton==2.0.0->torch>=1.6.0->ogb==1.3.2) (16.0.5)\n",
      "Requirement already satisfied: MarkupSafe>=2.0 in /usr/local/lib/python3.10/dist-packages (from jinja2->torch>=1.6.0->ogb==1.3.2) (2.1.2)\n",
      "Requirement already satisfied: certifi>=2017.4.17 in /usr/local/lib/python3.10/dist-packages (from requests->outdated>=0.2.0->ogb==1.3.2) (2022.12.7)\n",
      "Requirement already satisfied: charset-normalizer~=2.0.0 in /usr/local/lib/python3.10/dist-packages (from requests->outdated>=0.2.0->ogb==1.3.2) (2.0.12)\n",
      "Requirement already satisfied: idna<4,>=2.5 in /usr/local/lib/python3.10/dist-packages (from requests->outdated>=0.2.0->ogb==1.3.2) (3.4)\n",
      "Requirement already satisfied: mpmath>=0.19 in /usr/local/lib/python3.10/dist-packages (from sympy->torch>=1.6.0->ogb==1.3.2) (1.3.0)\n",
      "Building wheels for collected packages: littleutils\n",
      "  Building wheel for littleutils (setup.py) ... \u001b[?25l\u001b[?25hdone\n",
      "  Created wheel for littleutils: filename=littleutils-0.2.2-py3-none-any.whl size=7029 sha256=7e1ef57e9b323a771f2369b71337f375b2aa7b6efb7211af77c75bfcf2bb2202\n",
      "  Stored in directory: /root/.cache/pip/wheels/3d/fe/b0/27a9892da57472e538c7452a721a9cf463cc03cf7379889266\n",
      "Successfully built littleutils\n",
      "Installing collected packages: littleutils, outdated, ogb\n",
      "Successfully installed littleutils-0.2.2 ogb-1.3.2 outdated-0.2.2\n",
      "Looking in indexes: https://pypi.org/simple, https://us-python.pkg.dev/colab-wheels/public/simple/\n",
      "Collecting rdkit-pypi==2021.9.3\n",
      "  Downloading rdkit_pypi-2021.9.3-cp310-cp310-manylinux_2_17_x86_64.manylinux2014_x86_64.whl (20.8 MB)\n",
      "\u001b[2K     \u001b[90m━━━━━━━━━━━━━━━━━━━━━━━━━━━━━━━━━━━━━━━━\u001b[0m \u001b[32m20.8/20.8 MB\u001b[0m \u001b[31m11.0 MB/s\u001b[0m eta \u001b[36m0:00:00\u001b[0m\n",
      "\u001b[?25hRequirement already satisfied: numpy>=1.19 in /usr/local/lib/python3.10/dist-packages (from rdkit-pypi==2021.9.3) (1.22.4)\n",
      "Installing collected packages: rdkit-pypi\n",
      "Successfully installed rdkit-pypi-2021.9.3\n",
      "Looking in indexes: https://pypi.org/simple, https://us-python.pkg.dev/colab-wheels/public/simple/\n",
      "Looking in links: https://data.dgl.ai/wheels/repo.html\n",
      "Collecting dgl\n",
      "  Downloading dgl-1.1.0-cp310-cp310-manylinux1_x86_64.whl (5.9 MB)\n",
      "\u001b[2K     \u001b[90m━━━━━━━━━━━━━━━━━━━━━━━━━━━━━━━━━━━━━━━━\u001b[0m \u001b[32m5.9/5.9 MB\u001b[0m \u001b[31m57.9 MB/s\u001b[0m eta \u001b[36m0:00:00\u001b[0m\n",
      "\u001b[?25hRequirement already satisfied: numpy>=1.14.0 in /usr/local/lib/python3.10/dist-packages (from dgl) (1.22.4)\n",
      "Requirement already satisfied: scipy>=1.1.0 in /usr/local/lib/python3.10/dist-packages (from dgl) (1.10.1)\n",
      "Requirement already satisfied: networkx>=2.1 in /usr/local/lib/python3.10/dist-packages (from dgl) (3.1)\n",
      "Requirement already satisfied: requests>=2.19.0 in /usr/local/lib/python3.10/dist-packages (from dgl) (2.27.1)\n",
      "Requirement already satisfied: tqdm in /usr/local/lib/python3.10/dist-packages (from dgl) (4.65.0)\n",
      "Requirement already satisfied: psutil>=5.8.0 in /usr/local/lib/python3.10/dist-packages (from dgl) (5.9.5)\n",
      "Requirement already satisfied: urllib3<1.27,>=1.21.1 in /usr/local/lib/python3.10/dist-packages (from requests>=2.19.0->dgl) (1.26.15)\n",
      "Requirement already satisfied: certifi>=2017.4.17 in /usr/local/lib/python3.10/dist-packages (from requests>=2.19.0->dgl) (2022.12.7)\n",
      "Requirement already satisfied: charset-normalizer~=2.0.0 in /usr/local/lib/python3.10/dist-packages (from requests>=2.19.0->dgl) (2.0.12)\n",
      "Requirement already satisfied: idna<4,>=2.5 in /usr/local/lib/python3.10/dist-packages (from requests>=2.19.0->dgl) (3.4)\n",
      "Installing collected packages: dgl\n",
      "Successfully installed dgl-1.1.0\n",
      "Looking in indexes: https://pypi.org/simple, https://us-python.pkg.dev/colab-wheels/public/simple/\n",
      "Requirement already satisfied: protobuf==3.20.* in /usr/local/lib/python3.10/dist-packages (3.20.3)\n",
      "Looking in indexes: https://pypi.org/simple, https://us-python.pkg.dev/colab-wheels/public/simple/\n",
      "Collecting performer-pytorch\n",
      "  Downloading performer_pytorch-1.1.4-py3-none-any.whl (13 kB)\n",
      "Collecting einops>=0.3 (from performer-pytorch)\n",
      "  Downloading einops-0.6.1-py3-none-any.whl (42 kB)\n",
      "\u001b[2K     \u001b[90m━━━━━━━━━━━━━━━━━━━━━━━━━━━━━━━━━━━━━━━━\u001b[0m \u001b[32m42.2/42.2 kB\u001b[0m \u001b[31m3.4 MB/s\u001b[0m eta \u001b[36m0:00:00\u001b[0m\n",
      "\u001b[?25hCollecting local-attention>=1.1.1 (from performer-pytorch)\n",
      "  Downloading local_attention-1.8.6-py3-none-any.whl (8.1 kB)\n",
      "Requirement already satisfied: torch>=1.6 in /usr/local/lib/python3.10/dist-packages (from performer-pytorch) (2.0.1+cu118)\n",
      "Collecting axial-positional-embedding>=0.1.0 (from performer-pytorch)\n",
      "  Downloading axial_positional_embedding-0.2.1.tar.gz (2.6 kB)\n",
      "  Preparing metadata (setup.py) ... \u001b[?25l\u001b[?25hdone\n",
      "Requirement already satisfied: filelock in /usr/local/lib/python3.10/dist-packages (from torch>=1.6->performer-pytorch) (3.12.0)\n",
      "Requirement already satisfied: typing-extensions in /usr/local/lib/python3.10/dist-packages (from torch>=1.6->performer-pytorch) (4.5.0)\n",
      "Requirement already satisfied: sympy in /usr/local/lib/python3.10/dist-packages (from torch>=1.6->performer-pytorch) (1.11.1)\n",
      "Requirement already satisfied: networkx in /usr/local/lib/python3.10/dist-packages (from torch>=1.6->performer-pytorch) (3.1)\n",
      "Requirement already satisfied: jinja2 in /usr/local/lib/python3.10/dist-packages (from torch>=1.6->performer-pytorch) (3.1.2)\n",
      "Requirement already satisfied: triton==2.0.0 in /usr/local/lib/python3.10/dist-packages (from torch>=1.6->performer-pytorch) (2.0.0)\n",
      "Requirement already satisfied: cmake in /usr/local/lib/python3.10/dist-packages (from triton==2.0.0->torch>=1.6->performer-pytorch) (3.25.2)\n",
      "Requirement already satisfied: lit in /usr/local/lib/python3.10/dist-packages (from triton==2.0.0->torch>=1.6->performer-pytorch) (16.0.5)\n",
      "Requirement already satisfied: MarkupSafe>=2.0 in /usr/local/lib/python3.10/dist-packages (from jinja2->torch>=1.6->performer-pytorch) (2.1.2)\n",
      "Requirement already satisfied: mpmath>=0.19 in /usr/local/lib/python3.10/dist-packages (from sympy->torch>=1.6->performer-pytorch) (1.3.0)\n",
      "Building wheels for collected packages: axial-positional-embedding\n",
      "  Building wheel for axial-positional-embedding (setup.py) ... \u001b[?25l\u001b[?25hdone\n",
      "  Created wheel for axial-positional-embedding: filename=axial_positional_embedding-0.2.1-py3-none-any.whl size=2882 sha256=c7d3102b2d1cb133414ba4d8a5864eeb48bdfaddaeef97a4beca154792184a09\n",
      "  Stored in directory: /root/.cache/pip/wheels/b1/cb/39/7ce7ff2d2fd37cfe1fe7b3a3c43cf410632b2ad3b3f3986d73\n",
      "Successfully built axial-positional-embedding\n",
      "Installing collected packages: einops, local-attention, axial-positional-embedding, performer-pytorch\n",
      "Successfully installed axial-positional-embedding-0.2.1 einops-0.6.1 local-attention-1.8.6 performer-pytorch-1.1.4\n",
      "Looking in indexes: https://pypi.org/simple, https://us-python.pkg.dev/colab-wheels/public/simple/\n",
      "Requirement already satisfied: einops in /usr/local/lib/python3.10/dist-packages (0.6.1)\n",
      "Looking in indexes: https://pypi.org/simple, https://us-python.pkg.dev/colab-wheels/public/simple/\n",
      "Requirement already satisfied: tensorboard in /usr/local/lib/python3.10/dist-packages (2.12.2)\n",
      "Requirement already satisfied: absl-py>=0.4 in /usr/local/lib/python3.10/dist-packages (from tensorboard) (1.4.0)\n",
      "Requirement already satisfied: grpcio>=1.48.2 in /usr/local/lib/python3.10/dist-packages (from tensorboard) (1.54.0)\n",
      "Requirement already satisfied: google-auth<3,>=1.6.3 in /usr/local/lib/python3.10/dist-packages (from tensorboard) (2.17.3)\n",
      "Requirement already satisfied: google-auth-oauthlib<1.1,>=0.5 in /usr/local/lib/python3.10/dist-packages (from tensorboard) (1.0.0)\n",
      "Requirement already satisfied: markdown>=2.6.8 in /usr/local/lib/python3.10/dist-packages (from tensorboard) (3.4.3)\n",
      "Requirement already satisfied: numpy>=1.12.0 in /usr/local/lib/python3.10/dist-packages (from tensorboard) (1.22.4)\n",
      "Requirement already satisfied: protobuf>=3.19.6 in /usr/local/lib/python3.10/dist-packages (from tensorboard) (3.20.3)\n",
      "Requirement already satisfied: requests<3,>=2.21.0 in /usr/local/lib/python3.10/dist-packages (from tensorboard) (2.27.1)\n",
      "Requirement already satisfied: setuptools>=41.0.0 in /usr/local/lib/python3.10/dist-packages (from tensorboard) (67.7.2)\n",
      "Requirement already satisfied: tensorboard-data-server<0.8.0,>=0.7.0 in /usr/local/lib/python3.10/dist-packages (from tensorboard) (0.7.0)\n",
      "Requirement already satisfied: tensorboard-plugin-wit>=1.6.0 in /usr/local/lib/python3.10/dist-packages (from tensorboard) (1.8.1)\n",
      "Requirement already satisfied: werkzeug>=1.0.1 in /usr/local/lib/python3.10/dist-packages (from tensorboard) (2.3.0)\n",
      "Requirement already satisfied: wheel>=0.26 in /usr/local/lib/python3.10/dist-packages (from tensorboard) (0.40.0)\n",
      "Requirement already satisfied: cachetools<6.0,>=2.0.0 in /usr/local/lib/python3.10/dist-packages (from google-auth<3,>=1.6.3->tensorboard) (5.3.0)\n",
      "Requirement already satisfied: pyasn1-modules>=0.2.1 in /usr/local/lib/python3.10/dist-packages (from google-auth<3,>=1.6.3->tensorboard) (0.3.0)\n",
      "Requirement already satisfied: six>=1.9.0 in /usr/local/lib/python3.10/dist-packages (from google-auth<3,>=1.6.3->tensorboard) (1.16.0)\n",
      "Requirement already satisfied: rsa<5,>=3.1.4 in /usr/local/lib/python3.10/dist-packages (from google-auth<3,>=1.6.3->tensorboard) (4.9)\n",
      "Requirement already satisfied: requests-oauthlib>=0.7.0 in /usr/local/lib/python3.10/dist-packages (from google-auth-oauthlib<1.1,>=0.5->tensorboard) (1.3.1)\n",
      "Requirement already satisfied: urllib3<1.27,>=1.21.1 in /usr/local/lib/python3.10/dist-packages (from requests<3,>=2.21.0->tensorboard) (1.26.15)\n",
      "Requirement already satisfied: certifi>=2017.4.17 in /usr/local/lib/python3.10/dist-packages (from requests<3,>=2.21.0->tensorboard) (2022.12.7)\n",
      "Requirement already satisfied: charset-normalizer~=2.0.0 in /usr/local/lib/python3.10/dist-packages (from requests<3,>=2.21.0->tensorboard) (2.0.12)\n",
      "Requirement already satisfied: idna<4,>=2.5 in /usr/local/lib/python3.10/dist-packages (from requests<3,>=2.21.0->tensorboard) (3.4)\n",
      "Requirement already satisfied: MarkupSafe>=2.1.1 in /usr/local/lib/python3.10/dist-packages (from werkzeug>=1.0.1->tensorboard) (2.1.2)\n",
      "Requirement already satisfied: pyasn1<0.6.0,>=0.4.6 in /usr/local/lib/python3.10/dist-packages (from pyasn1-modules>=0.2.1->google-auth<3,>=1.6.3->tensorboard) (0.5.0)\n",
      "Requirement already satisfied: oauthlib>=3.0.0 in /usr/local/lib/python3.10/dist-packages (from requests-oauthlib>=0.7.0->google-auth-oauthlib<1.1,>=0.5->tensorboard) (3.2.2)\n",
      "Looking in indexes: https://pypi.org/simple, https://us-python.pkg.dev/colab-wheels/public/simple/\n",
      "Collecting setuptools==59.5.0\n",
      "  Downloading setuptools-59.5.0-py3-none-any.whl (952 kB)\n",
      "\u001b[2K     \u001b[90m━━━━━━━━━━━━━━━━━━━━━━━━━━━━━━━━━━━━━━\u001b[0m \u001b[32m952.4/952.4 kB\u001b[0m \u001b[31m23.5 MB/s\u001b[0m eta \u001b[36m0:00:00\u001b[0m\n",
      "\u001b[?25hInstalling collected packages: setuptools\n",
      "  Attempting uninstall: setuptools\n",
      "    Found existing installation: setuptools 67.7.2\n",
      "    Uninstalling setuptools-67.7.2:\n",
      "      Successfully uninstalled setuptools-67.7.2\n",
      "\u001b[31mERROR: pip's dependency resolver does not currently take into account all the packages that are installed. This behaviour is the source of the following dependency conflicts.\n",
      "ipython 7.34.0 requires jedi>=0.16, which is not installed.\n",
      "arviz 0.15.1 requires setuptools>=60.0.0, but you have setuptools 59.5.0 which is incompatible.\n",
      "cvxpy 1.3.1 requires setuptools>65.5.1, but you have setuptools 59.5.0 which is incompatible.\u001b[0m\u001b[31m\n",
      "\u001b[0mSuccessfully installed setuptools-59.5.0\n"
     ]
    },
    {
     "data": {
      "application/vnd.colab-display-data+json": {
       "pip_warning": {
        "packages": [
         "_distutils_hack",
         "pkg_resources",
         "setuptools"
        ]
       }
      }
     },
     "metadata": {},
     "output_type": "display_data"
    }
   ],
   "source": [
    "!pip3 install torch-scatter==2.1.1 -f https://pytorch-geometric.com/whl/torch-2.0.1+cu118.html\n",
    "!pip3 install torch-sparse==0.6.17 -f https://pytorch-geometric.com/whl/torch-2.0.1+cu118.html\n",
    "!pip3 install torch-cluster==1.6.1 -f https://pytorch-geometric.com/whl/torch-2.0.1+cu118.html\n",
    "!pip install torch-geometric==1.7.2\n",
    "!pip3 install tensorboardX==2.4.1\n",
    "!pip3 install ogb==1.3.2\n",
    "!pip3 install rdkit-pypi==2021.9.3\n",
    "!pip3 install dgl -f https://data.dgl.ai/wheels/repo.html\n",
    "!pip3 install protobuf==3.20.*\n",
    "!pip3 install performer-pytorch\n",
    "!pip3 install einops\n",
    "!pip3 install tensorboard\n",
    "!pip3 install setuptools==59.5.0"
   ]
  },
  {
   "cell_type": "code",
   "execution_count": null,
   "id": "HvODA8yMc-hN",
   "metadata": {
    "id": "HvODA8yMc-hN"
   },
   "outputs": [],
   "source": [
    "!pip3 install -r requirements.txt"
   ]
  },
  {
   "cell_type": "code",
   "execution_count": null,
   "id": "dLxDpjQmf8_D",
   "metadata": {
    "id": "dLxDpjQmf8_D"
   },
   "outputs": [],
   "source": [
    "# Cora-ML"
   ]
  },
  {
   "cell_type": "code",
   "execution_count": null,
   "id": "X_gGCNqodER_",
   "metadata": {
    "id": "X_gGCNqodER_"
   },
   "outputs": [],
   "source": [
    "!bash run/Cora_ML/gat.sh"
   ]
  },
  {
   "cell_type": "code",
   "execution_count": null,
   "id": "E6QMASLvdN_a",
   "metadata": {
    "id": "E6QMASLvdN_a"
   },
   "outputs": [],
   "source": [
    "!bash run/Cora_ML/gcn.sh"
   ]
  },
  {
   "cell_type": "code",
   "execution_count": null,
   "id": "NOUT551AdQLy",
   "metadata": {
    "id": "NOUT551AdQLy"
   },
   "outputs": [],
   "source": [
    "!bash run/Cora_ML/tokengt_node.sh"
   ]
  },
  {
   "cell_type": "code",
   "execution_count": null,
   "id": "yNAl8hyVdTk9",
   "metadata": {
    "id": "yNAl8hyVdTk9"
   },
   "outputs": [],
   "source": [
    "!bash run/Cora_ML/tokengt_kd_node.sh"
   ]
  },
  {
   "cell_type": "code",
   "execution_count": null,
   "id": "v6Q71rJpf_iT",
   "metadata": {
    "id": "v6Q71rJpf_iT"
   },
   "outputs": [],
   "source": [
    "# Cora-Full"
   ]
  },
  {
   "cell_type": "code",
   "execution_count": null,
   "id": "qEVNfryPf1dQ",
   "metadata": {
    "id": "qEVNfryPf1dQ"
   },
   "outputs": [],
   "source": [
    "!bash run/CoraFull/gat.sh"
   ]
  },
  {
   "cell_type": "code",
   "execution_count": null,
   "id": "0NrHvGv7f7LQ",
   "metadata": {
    "id": "0NrHvGv7f7LQ"
   },
   "outputs": [],
   "source": [
    "!bash run/CoraFull/gcn.sh"
   ]
  },
  {
   "cell_type": "code",
   "execution_count": null,
   "id": "a4CYvJTigB8b",
   "metadata": {
    "id": "a4CYvJTigB8b"
   },
   "outputs": [],
   "source": [
    "!bash run/CoraFull/tokengt_node.sh"
   ]
  },
  {
   "cell_type": "code",
   "execution_count": null,
   "id": "MDh6FGZ7gF5X",
   "metadata": {
    "id": "MDh6FGZ7gF5X"
   },
   "outputs": [],
   "source": [
    "!bash run/CoraFull/tokengt_node_kd.sh"
   ]
  },
  {
   "cell_type": "code",
   "execution_count": null,
   "id": "sYCdLKEmgI8Z",
   "metadata": {
    "id": "sYCdLKEmgI8Z"
   },
   "outputs": [],
   "source": [
    "# DBLP"
   ]
  },
  {
   "cell_type": "code",
   "execution_count": null,
   "id": "E2iIThOpgK7Q",
   "metadata": {
    "id": "E2iIThOpgK7Q"
   },
   "outputs": [],
   "source": [
    "!bash run/DBLP/gat.sh"
   ]
  },
  {
   "cell_type": "code",
   "execution_count": null,
   "id": "MBcP8K9ggO4_",
   "metadata": {
    "id": "MBcP8K9ggO4_"
   },
   "outputs": [],
   "source": [
    "!bash run/DBLP/gcn.sh"
   ]
  },
  {
   "cell_type": "code",
   "execution_count": null,
   "id": "yR6mSwbdgQ--",
   "metadata": {
    "id": "yR6mSwbdgQ--"
   },
   "outputs": [],
   "source": [
    "!bash run/DBLP/tokengt_node.sh"
   ]
  },
  {
   "cell_type": "code",
   "execution_count": null,
   "id": "CAEmMBswgVTF",
   "metadata": {
    "id": "CAEmMBswgVTF"
   },
   "outputs": [],
   "source": [
    "!bash run/DBLP/tokengt_node_kd_gat.sh"
   ]
  },
  {
   "cell_type": "code",
   "execution_count": null,
   "id": "7CKHynwWggNP",
   "metadata": {
    "id": "7CKHynwWggNP"
   },
   "outputs": [],
   "source": [
    "# PubMed"
   ]
  },
  {
   "cell_type": "code",
   "execution_count": null,
   "id": "8awosqKmgh0x",
   "metadata": {
    "id": "8awosqKmgh0x"
   },
   "outputs": [],
   "source": [
    "!bash run/PubMed/gat.sh"
   ]
  },
  {
   "cell_type": "code",
   "execution_count": null,
   "id": "Fi6a_v4Bgkyi",
   "metadata": {
    "id": "Fi6a_v4Bgkyi"
   },
   "outputs": [],
   "source": [
    "!bash run/PubMed/gcn.sh"
   ]
  },
  {
   "cell_type": "code",
   "execution_count": null,
   "id": "CkqT0d7vgmC0",
   "metadata": {
    "id": "CkqT0d7vgmC0"
   },
   "outputs": [],
   "source": [
    "!bash run/PubMed/tokengt_node.sh"
   ]
  },
  {
   "cell_type": "code",
   "execution_count": null,
   "id": "c_qA7o1AgqYf",
   "metadata": {
    "id": "c_qA7o1AgqYf"
   },
   "outputs": [],
   "source": [
    "!bash run/PubMed/tokengt_node_kd_gcn.sh"
   ]
  },
  {
   "cell_type": "code",
   "execution_count": null,
   "id": "0IOz9udTgvQk",
   "metadata": {
    "id": "0IOz9udTgvQk"
   },
   "outputs": [],
   "source": [
    "# Wiki-CS"
   ]
  },
  {
   "cell_type": "code",
   "execution_count": null,
   "id": "ntZ5lVZigxHH",
   "metadata": {
    "id": "ntZ5lVZigxHH"
   },
   "outputs": [],
   "source": [
    "!bash run/WikiCS/gat.sh"
   ]
  },
  {
   "cell_type": "code",
   "execution_count": null,
   "id": "igP6OrJeg1tK",
   "metadata": {
    "id": "igP6OrJeg1tK"
   },
   "outputs": [],
   "source": [
    "!bash run/WikiCS/gcn.sh"
   ]
  },
  {
   "cell_type": "code",
   "execution_count": null,
   "id": "ahIxvZyFg49T",
   "metadata": {
    "id": "ahIxvZyFg49T"
   },
   "outputs": [],
   "source": [
    "!bash run/WikiCS/tokengt_node.sh"
   ]
  },
  {
   "cell_type": "code",
   "execution_count": null,
   "id": "_LP2lIhig8oC",
   "metadata": {
    "id": "_LP2lIhig8oC"
   },
   "outputs": [],
   "source": [
    "!bash run/WikiCS/tokengt_node_kd_gat.sh"
   ]
  }
 ],
 "metadata": {
  "accelerator": "GPU",
  "colab": {
   "gpuType": "A100",
   "machine_shape": "hm",
   "provenance": []
  },
  "kernelspec": {
   "display_name": "Python 3 (ipykernel)",
   "language": "python",
   "name": "python3"
  },
  "language_info": {
   "codemirror_mode": {
    "name": "ipython",
    "version": 3
   },
   "file_extension": ".py",
   "mimetype": "text/x-python",
   "name": "python",
   "nbconvert_exporter": "python",
   "pygments_lexer": "ipython3",
   "version": "3.7.11"
  }
 },
 "nbformat": 4,
 "nbformat_minor": 5
}
